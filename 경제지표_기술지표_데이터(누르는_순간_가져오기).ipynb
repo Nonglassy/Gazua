{
  "nbformat": 4,
  "nbformat_minor": 0,
  "metadata": {
    "colab": {
      "provenance": [],
      "collapsed_sections": [],
      "authorship_tag": "ABX9TyMkq8FiMN+iPQwXPtVjtBpI",
      "include_colab_link": true
    },
    "kernelspec": {
      "name": "python3",
      "display_name": "Python 3"
    },
    "language_info": {
      "name": "python"
    }
  },
  "cells": [
    {
      "cell_type": "markdown",
      "metadata": {
        "id": "view-in-github",
        "colab_type": "text"
      },
      "source": [
        "<a href=\"https://colab.research.google.com/github/Nonglassy/Gazua/blob/main/%EA%B2%BD%EC%A0%9C%EC%A7%80%ED%91%9C_%EA%B8%B0%EC%88%A0%EC%A7%80%ED%91%9C_%EB%8D%B0%EC%9D%B4%ED%84%B0(%EB%88%84%EB%A5%B4%EB%8A%94_%EC%88%9C%EA%B0%84_%EA%B0%80%EC%A0%B8%EC%98%A4%EA%B8%B0).ipynb\" target=\"_parent\"><img src=\"https://colab.research.google.com/assets/colab-badge.svg\" alt=\"Open In Colab\"/></a>"
      ]
    },
    {
      "cell_type": "code",
      "source": [
        "#경제지표\n",
        "import requests\n",
        "import pandas as pd\n",
        "import json\n",
        "\n",
        "def getdata(search_text,st_date,end_date):\n",
        "    headers={'User-Agent':'Mozilla/5.0 (Windows NT 10.0; Win64; x64) AppleWebKit/537.36 (KHTML, like Gecko) Chrome/104.0.0.0 Safari/537.36','X-Requested-With':'XMLHttpRequest',}\n",
        "    data={'search_text':search_text,}\n",
        "    result1=requests.post('https://www.investing.com/search/service/searchTopBar',data=data,headers=headers)\n",
        "    data=result1.json()\n",
        "    first_quote_result=data['quotes'][0]\n",
        "    curr_id=first_quote_result['pairId'] \n",
        "    data={'curr_id':curr_id,'st_date':st_date,'end_date':end_date,'interval_sec':'Daily','action':'historical_data',}\n",
        "    result2=requests.post('https://www.investing.com/instruments/HistoricalDataAjax',data=data,headers=headers)\n",
        "    data=result2.text\n",
        "    data=pd.read_html(data)\n",
        "    hist_data=data[0]\n",
        "    return pd.DataFrame(hist_data)\n"
      ],
      "metadata": {
        "id": "hLDQ_XVgL6aK"
      },
      "execution_count": 42,
      "outputs": []
    },
    {
      "cell_type": "code",
      "source": [
        "from datetime import datetime\n",
        "today=datetime.today().strftime('%Y-%m-%d')\n",
        "now=datetime.strptime(today, \"%Y-%m-%d\").strftime('%m/%d/%Y')\n",
        "\n",
        "Bitcoin=getdata('bitcoin','01/01/2018',now)\n",
        "TenYear=getdata('united states 10-Year','01/01/2018',now)\n",
        "OVX=getdata('ovx','01/01/2018',now)\n",
        "VIX=getdata('vix','01/01/2018',now)"
      ],
      "metadata": {
        "id": "Qw1mG7W5L6Dt"
      },
      "execution_count": 45,
      "outputs": []
    },
    {
      "cell_type": "code",
      "source": [
        "import numpy as np\n",
        "import pandas as pd \n",
        "from sklearn.linear_model import LinearRegression\n",
        "from sklearn.experimental import enable_iterative_imputer\n",
        "from sklearn.impute import IterativeImputer\n",
        "\n",
        "lr=LinearRegression()\n",
        "imp=IterativeImputer(estimator=lr, tol=1e-10, max_iter=30, verbose=2, imputation_order='roman')\n",
        "\n",
        "Bitcoin=Bitcoin.drop(Bitcoin.columns[1:],axis=1)\n",
        "TenYear=TenYear.drop(TenYear.columns[5],axis=1)\n",
        "OVX=OVX.drop(OVX.columns[5:7],axis=1)\n",
        "VIX=VIX.drop(VIX.columns[5:7],axis=1)\n",
        "TenYear.columns=['Date','YOpen','YHigh','YLow','YClose']\n",
        "OVX.columns=['Date','ovxOpen','ovxHigh','ovxYLow','ovxClose']\n",
        "VIX.columns=['Date','vixOpen','vixHigh','vixLow','vixClose']\n",
        "\n",
        "data=pd.merge(left=Bitcoin, right=TenYear, how='outer',on=\"Date\")\n",
        "data=pd.merge(left=data, right=OVX, how='outer',on=\"Date\")\n",
        "data=pd.merge(left=data, right=VIX, how='outer',on=\"Date\")\n",
        "data=data.drop(data.columns[0],axis=1)\n",
        "\n",
        "data=imp.fit_transform(data)\n",
        "\n",
        "from datetime import datetime\n",
        "from pytz import timezone\n",
        "\n",
        "Otherdata = pd.DataFrame(data, columns=['YOpen','YHigh','YLow','YClose','ovxOpen','ovxHigh','ovxLow','ovxClose','vixOpen','vixHigh','vixLow','vixClose'])\n",
        "Otherdata=pd.concat([Bitcoin, Otherdata], axis = 1)\n",
        "Otherdata['Date']=pd.to_datetime(Otherdata['Date'])\n",
        "Otherdata=Otherdata.sort_values(by=['Date'])\n",
        "Otherdata=Otherdata.drop(Otherdata.columns[0],axis=1)\n",
        "Otherdata.reset_index(drop=True, inplace = True)"
      ],
      "metadata": {
        "colab": {
          "base_uri": "https://localhost:8080/"
        },
        "id": "EJ1US1zUL53S",
        "outputId": "62997976-fc6f-4cad-b5b6-5224532bb361"
      },
      "execution_count": 47,
      "outputs": [
        {
          "output_type": "stream",
          "name": "stdout",
          "text": [
            "[IterativeImputer] Completing matrix with shape (1708, 12)\n",
            "[IterativeImputer] Ending imputation round 1/30, elapsed time 0.05\n",
            "[IterativeImputer] Change: 9.652572060702958, scaled tolerance: 5.171900000000001e-08 \n",
            "[IterativeImputer] Ending imputation round 2/30, elapsed time 0.08\n",
            "[IterativeImputer] Change: 3.519314168625563, scaled tolerance: 5.171900000000001e-08 \n",
            "[IterativeImputer] Ending imputation round 3/30, elapsed time 0.11\n",
            "[IterativeImputer] Change: 4.308137938446492, scaled tolerance: 5.171900000000001e-08 \n",
            "[IterativeImputer] Ending imputation round 4/30, elapsed time 0.14\n",
            "[IterativeImputer] Change: 4.296337766712618, scaled tolerance: 5.171900000000001e-08 \n",
            "[IterativeImputer] Ending imputation round 5/30, elapsed time 0.17\n",
            "[IterativeImputer] Change: 4.136018167552088, scaled tolerance: 5.171900000000001e-08 \n",
            "[IterativeImputer] Ending imputation round 6/30, elapsed time 0.22\n",
            "[IterativeImputer] Change: 3.953660080154606, scaled tolerance: 5.171900000000001e-08 \n",
            "[IterativeImputer] Ending imputation round 7/30, elapsed time 0.25\n",
            "[IterativeImputer] Change: 3.7738686001818564, scaled tolerance: 5.171900000000001e-08 \n",
            "[IterativeImputer] Ending imputation round 8/30, elapsed time 0.28\n",
            "[IterativeImputer] Change: 3.6011623158265706, scaled tolerance: 5.171900000000001e-08 \n",
            "[IterativeImputer] Ending imputation round 9/30, elapsed time 0.31\n",
            "[IterativeImputer] Change: 3.436135337050466, scaled tolerance: 5.171900000000001e-08 \n",
            "[IterativeImputer] Ending imputation round 10/30, elapsed time 0.34\n",
            "[IterativeImputer] Change: 3.2786211986230214, scaled tolerance: 5.171900000000001e-08 \n",
            "[IterativeImputer] Ending imputation round 11/30, elapsed time 0.37\n",
            "[IterativeImputer] Change: 3.128314655650577, scaled tolerance: 5.171900000000001e-08 \n",
            "[IterativeImputer] Ending imputation round 12/30, elapsed time 0.39\n",
            "[IterativeImputer] Change: 2.98489442170262, scaled tolerance: 5.171900000000001e-08 \n",
            "[IterativeImputer] Ending imputation round 13/30, elapsed time 0.42\n",
            "[IterativeImputer] Change: 2.848047387743158, scaled tolerance: 5.171900000000001e-08 \n",
            "[IterativeImputer] Ending imputation round 14/30, elapsed time 0.45\n",
            "[IterativeImputer] Change: 2.7174731736674502, scaled tolerance: 5.171900000000001e-08 \n",
            "[IterativeImputer] Ending imputation round 15/30, elapsed time 0.48\n",
            "[IterativeImputer] Change: 2.5928846684640234, scaled tolerance: 5.171900000000001e-08 \n",
            "[IterativeImputer] Ending imputation round 16/30, elapsed time 0.52\n",
            "[IterativeImputer] Change: 2.474007722540925, scaled tolerance: 5.171900000000001e-08 \n",
            "[IterativeImputer] Ending imputation round 17/30, elapsed time 0.54\n",
            "[IterativeImputer] Change: 2.3605806551552106, scaled tolerance: 5.171900000000001e-08 \n",
            "[IterativeImputer] Ending imputation round 18/30, elapsed time 0.57\n",
            "[IterativeImputer] Change: 2.2523537263021254, scaled tolerance: 5.171900000000001e-08 \n",
            "[IterativeImputer] Ending imputation round 19/30, elapsed time 0.60\n",
            "[IterativeImputer] Change: 2.1490886112994474, scaled tolerance: 5.171900000000001e-08 \n",
            "[IterativeImputer] Ending imputation round 20/30, elapsed time 0.62\n",
            "[IterativeImputer] Change: 2.0505578896638212, scaled tolerance: 5.171900000000001e-08 \n",
            "[IterativeImputer] Ending imputation round 21/30, elapsed time 0.66\n",
            "[IterativeImputer] Change: 1.956544552366033, scaled tolerance: 5.171900000000001e-08 \n",
            "[IterativeImputer] Ending imputation round 22/30, elapsed time 0.68\n",
            "[IterativeImputer] Change: 1.8668415288468836, scaled tolerance: 5.171900000000001e-08 \n",
            "[IterativeImputer] Ending imputation round 23/30, elapsed time 0.71\n",
            "[IterativeImputer] Change: 1.781251234125179, scaled tolerance: 5.171900000000001e-08 \n",
            "[IterativeImputer] Ending imputation round 24/30, elapsed time 0.74\n",
            "[IterativeImputer] Change: 1.6995851356898513, scaled tolerance: 5.171900000000001e-08 \n",
            "[IterativeImputer] Ending imputation round 25/30, elapsed time 0.76\n",
            "[IterativeImputer] Change: 1.621663339710146, scaled tolerance: 5.171900000000001e-08 \n",
            "[IterativeImputer] Ending imputation round 26/30, elapsed time 0.79\n",
            "[IterativeImputer] Change: 1.5473141958378136, scaled tolerance: 5.171900000000001e-08 \n",
            "[IterativeImputer] Ending imputation round 27/30, elapsed time 0.82\n",
            "[IterativeImputer] Change: 1.4763739199256207, scaled tolerance: 5.171900000000001e-08 \n",
            "[IterativeImputer] Ending imputation round 28/30, elapsed time 0.85\n",
            "[IterativeImputer] Change: 1.4086862338921549, scaled tolerance: 5.171900000000001e-08 \n",
            "[IterativeImputer] Ending imputation round 29/30, elapsed time 0.89\n",
            "[IterativeImputer] Change: 1.3441020220131392, scaled tolerance: 5.171900000000001e-08 \n",
            "[IterativeImputer] Ending imputation round 30/30, elapsed time 0.92\n",
            "[IterativeImputer] Change: 1.2824790028887278, scaled tolerance: 5.171900000000001e-08 \n"
          ]
        },
        {
          "output_type": "stream",
          "name": "stderr",
          "text": [
            "/usr/local/lib/python3.7/dist-packages/sklearn/impute/_iterative.py:701: ConvergenceWarning: [IterativeImputer] Early stopping criterion not reached.\n",
            "  ConvergenceWarning,\n"
          ]
        }
      ]
    },
    {
      "cell_type": "code",
      "execution_count": 8,
      "metadata": {
        "colab": {
          "base_uri": "https://localhost:8080/"
        },
        "id": "ygcTPlXU0-id",
        "outputId": "82669203-0eb8-4f1e-e28e-81d083f9e87c"
      },
      "outputs": [
        {
          "output_type": "stream",
          "name": "stdout",
          "text": [
            "Looking in indexes: https://pypi.org/simple, https://us-python.pkg.dev/colab-wheels/public/simple/\n",
            "Collecting pyupbit\n",
            "  Downloading pyupbit-0.2.33-py3-none-any.whl (24 kB)\n",
            "Requirement already satisfied: requests in /usr/local/lib/python3.7/dist-packages (from pyupbit) (2.23.0)\n",
            "Collecting pyjwt>=2.0.0\n",
            "  Downloading PyJWT-2.4.0-py3-none-any.whl (18 kB)\n",
            "Requirement already satisfied: pandas in /usr/local/lib/python3.7/dist-packages (from pyupbit) (1.3.5)\n",
            "Collecting websockets\n",
            "  Downloading websockets-10.3-cp37-cp37m-manylinux_2_5_x86_64.manylinux1_x86_64.manylinux_2_12_x86_64.manylinux2010_x86_64.whl (112 kB)\n",
            "\u001b[K     |████████████████████████████████| 112 kB 7.7 MB/s \n",
            "\u001b[?25hRequirement already satisfied: pytz>=2017.3 in /usr/local/lib/python3.7/dist-packages (from pandas->pyupbit) (2022.2.1)\n",
            "Requirement already satisfied: python-dateutil>=2.7.3 in /usr/local/lib/python3.7/dist-packages (from pandas->pyupbit) (2.8.2)\n",
            "Requirement already satisfied: numpy>=1.17.3 in /usr/local/lib/python3.7/dist-packages (from pandas->pyupbit) (1.21.6)\n",
            "Requirement already satisfied: six>=1.5 in /usr/local/lib/python3.7/dist-packages (from python-dateutil>=2.7.3->pandas->pyupbit) (1.15.0)\n",
            "Requirement already satisfied: idna<3,>=2.5 in /usr/local/lib/python3.7/dist-packages (from requests->pyupbit) (2.10)\n",
            "Requirement already satisfied: certifi>=2017.4.17 in /usr/local/lib/python3.7/dist-packages (from requests->pyupbit) (2022.6.15)\n",
            "Requirement already satisfied: chardet<4,>=3.0.2 in /usr/local/lib/python3.7/dist-packages (from requests->pyupbit) (3.0.4)\n",
            "Requirement already satisfied: urllib3!=1.25.0,!=1.25.1,<1.26,>=1.21.1 in /usr/local/lib/python3.7/dist-packages (from requests->pyupbit) (1.24.3)\n",
            "Installing collected packages: websockets, pyjwt, pyupbit\n",
            "Successfully installed pyjwt-2.4.0 pyupbit-0.2.33 websockets-10.3\n",
            "Looking in indexes: https://pypi.org/simple, https://us-python.pkg.dev/colab-wheels/public/simple/\n",
            "Requirement already satisfied: tensorflow in /usr/local/lib/python3.7/dist-packages (2.8.2+zzzcolab20220719082949)\n",
            "Requirement already satisfied: tensorflow-io-gcs-filesystem>=0.23.1 in /usr/local/lib/python3.7/dist-packages (from tensorflow) (0.26.0)\n",
            "Requirement already satisfied: tensorboard<2.9,>=2.8 in /usr/local/lib/python3.7/dist-packages (from tensorflow) (2.8.0)\n",
            "Requirement already satisfied: h5py>=2.9.0 in /usr/local/lib/python3.7/dist-packages (from tensorflow) (3.1.0)\n",
            "Requirement already satisfied: six>=1.12.0 in /usr/local/lib/python3.7/dist-packages (from tensorflow) (1.15.0)\n",
            "Requirement already satisfied: wrapt>=1.11.0 in /usr/local/lib/python3.7/dist-packages (from tensorflow) (1.14.1)\n",
            "Requirement already satisfied: keras-preprocessing>=1.1.1 in /usr/local/lib/python3.7/dist-packages (from tensorflow) (1.1.2)\n",
            "Requirement already satisfied: flatbuffers>=1.12 in /usr/local/lib/python3.7/dist-packages (from tensorflow) (2.0.7)\n",
            "Requirement already satisfied: protobuf<3.20,>=3.9.2 in /usr/local/lib/python3.7/dist-packages (from tensorflow) (3.17.3)\n",
            "Requirement already satisfied: termcolor>=1.1.0 in /usr/local/lib/python3.7/dist-packages (from tensorflow) (1.1.0)\n",
            "Requirement already satisfied: keras<2.9,>=2.8.0rc0 in /usr/local/lib/python3.7/dist-packages (from tensorflow) (2.8.0)\n",
            "Requirement already satisfied: google-pasta>=0.1.1 in /usr/local/lib/python3.7/dist-packages (from tensorflow) (0.2.0)\n",
            "Requirement already satisfied: opt-einsum>=2.3.2 in /usr/local/lib/python3.7/dist-packages (from tensorflow) (3.3.0)\n",
            "Requirement already satisfied: tensorflow-estimator<2.9,>=2.8 in /usr/local/lib/python3.7/dist-packages (from tensorflow) (2.8.0)\n",
            "Requirement already satisfied: gast>=0.2.1 in /usr/local/lib/python3.7/dist-packages (from tensorflow) (0.5.3)\n",
            "Requirement already satisfied: numpy>=1.20 in /usr/local/lib/python3.7/dist-packages (from tensorflow) (1.21.6)\n",
            "Requirement already satisfied: setuptools in /usr/local/lib/python3.7/dist-packages (from tensorflow) (57.4.0)\n",
            "Requirement already satisfied: libclang>=9.0.1 in /usr/local/lib/python3.7/dist-packages (from tensorflow) (14.0.6)\n",
            "Requirement already satisfied: absl-py>=0.4.0 in /usr/local/lib/python3.7/dist-packages (from tensorflow) (1.2.0)\n",
            "Requirement already satisfied: grpcio<2.0,>=1.24.3 in /usr/local/lib/python3.7/dist-packages (from tensorflow) (1.47.0)\n",
            "Requirement already satisfied: astunparse>=1.6.0 in /usr/local/lib/python3.7/dist-packages (from tensorflow) (1.6.3)\n",
            "Requirement already satisfied: typing-extensions>=3.6.6 in /usr/local/lib/python3.7/dist-packages (from tensorflow) (4.1.1)\n",
            "Requirement already satisfied: wheel<1.0,>=0.23.0 in /usr/local/lib/python3.7/dist-packages (from astunparse>=1.6.0->tensorflow) (0.37.1)\n",
            "Requirement already satisfied: cached-property in /usr/local/lib/python3.7/dist-packages (from h5py>=2.9.0->tensorflow) (1.5.2)\n",
            "Requirement already satisfied: google-auth-oauthlib<0.5,>=0.4.1 in /usr/local/lib/python3.7/dist-packages (from tensorboard<2.9,>=2.8->tensorflow) (0.4.6)\n",
            "Requirement already satisfied: tensorboard-data-server<0.7.0,>=0.6.0 in /usr/local/lib/python3.7/dist-packages (from tensorboard<2.9,>=2.8->tensorflow) (0.6.1)\n",
            "Requirement already satisfied: requests<3,>=2.21.0 in /usr/local/lib/python3.7/dist-packages (from tensorboard<2.9,>=2.8->tensorflow) (2.23.0)\n",
            "Requirement already satisfied: google-auth<3,>=1.6.3 in /usr/local/lib/python3.7/dist-packages (from tensorboard<2.9,>=2.8->tensorflow) (1.35.0)\n",
            "Requirement already satisfied: werkzeug>=0.11.15 in /usr/local/lib/python3.7/dist-packages (from tensorboard<2.9,>=2.8->tensorflow) (1.0.1)\n",
            "Requirement already satisfied: markdown>=2.6.8 in /usr/local/lib/python3.7/dist-packages (from tensorboard<2.9,>=2.8->tensorflow) (3.4.1)\n",
            "Requirement already satisfied: tensorboard-plugin-wit>=1.6.0 in /usr/local/lib/python3.7/dist-packages (from tensorboard<2.9,>=2.8->tensorflow) (1.8.1)\n",
            "Requirement already satisfied: pyasn1-modules>=0.2.1 in /usr/local/lib/python3.7/dist-packages (from google-auth<3,>=1.6.3->tensorboard<2.9,>=2.8->tensorflow) (0.2.8)\n",
            "Requirement already satisfied: cachetools<5.0,>=2.0.0 in /usr/local/lib/python3.7/dist-packages (from google-auth<3,>=1.6.3->tensorboard<2.9,>=2.8->tensorflow) (4.2.4)\n",
            "Requirement already satisfied: rsa<5,>=3.1.4 in /usr/local/lib/python3.7/dist-packages (from google-auth<3,>=1.6.3->tensorboard<2.9,>=2.8->tensorflow) (4.9)\n",
            "Requirement already satisfied: requests-oauthlib>=0.7.0 in /usr/local/lib/python3.7/dist-packages (from google-auth-oauthlib<0.5,>=0.4.1->tensorboard<2.9,>=2.8->tensorflow) (1.3.1)\n",
            "Requirement already satisfied: importlib-metadata>=4.4 in /usr/local/lib/python3.7/dist-packages (from markdown>=2.6.8->tensorboard<2.9,>=2.8->tensorflow) (4.12.0)\n",
            "Requirement already satisfied: zipp>=0.5 in /usr/local/lib/python3.7/dist-packages (from importlib-metadata>=4.4->markdown>=2.6.8->tensorboard<2.9,>=2.8->tensorflow) (3.8.1)\n",
            "Requirement already satisfied: pyasn1<0.5.0,>=0.4.6 in /usr/local/lib/python3.7/dist-packages (from pyasn1-modules>=0.2.1->google-auth<3,>=1.6.3->tensorboard<2.9,>=2.8->tensorflow) (0.4.8)\n",
            "Requirement already satisfied: certifi>=2017.4.17 in /usr/local/lib/python3.7/dist-packages (from requests<3,>=2.21.0->tensorboard<2.9,>=2.8->tensorflow) (2022.6.15)\n",
            "Requirement already satisfied: idna<3,>=2.5 in /usr/local/lib/python3.7/dist-packages (from requests<3,>=2.21.0->tensorboard<2.9,>=2.8->tensorflow) (2.10)\n",
            "Requirement already satisfied: chardet<4,>=3.0.2 in /usr/local/lib/python3.7/dist-packages (from requests<3,>=2.21.0->tensorboard<2.9,>=2.8->tensorflow) (3.0.4)\n",
            "Requirement already satisfied: urllib3!=1.25.0,!=1.25.1,<1.26,>=1.21.1 in /usr/local/lib/python3.7/dist-packages (from requests<3,>=2.21.0->tensorboard<2.9,>=2.8->tensorflow) (1.24.3)\n",
            "Requirement already satisfied: oauthlib>=3.0.0 in /usr/local/lib/python3.7/dist-packages (from requests-oauthlib>=0.7.0->google-auth-oauthlib<0.5,>=0.4.1->tensorboard<2.9,>=2.8->tensorflow) (3.2.0)\n"
          ]
        }
      ],
      "source": [
        "#기술지표\n",
        "!pip install pyupbit\n",
        "!pip install tensorflow"
      ]
    },
    {
      "cell_type": "code",
      "source": [
        "url = 'https://anaconda.org/conda-forge/libta-lib/0.4.0/download/linux-64/libta-lib-0.4.0-h516909a_0.tar.bz2'\n",
        "!curl -L $url | tar xj -C /usr/lib/x86_64-linux-gnu/ lib --strip-components=1\n",
        "url = 'https://anaconda.org/conda-forge/ta-lib/0.4.19/download/linux-64/ta-lib-0.4.19-py37ha21ca33_2.tar.bz2'\n",
        "!curl -L $url | tar xj -C /usr/local/lib/python3.7/dist-packages/ lib/python3.7/site-packages/talib --strip-components=3"
      ],
      "metadata": {
        "colab": {
          "base_uri": "https://localhost:8080/"
        },
        "id": "8Fm6kR2f7V8i",
        "outputId": "d2294d38-7cdd-49f5-efa9-57211e1490f6"
      },
      "execution_count": 6,
      "outputs": [
        {
          "output_type": "stream",
          "name": "stdout",
          "text": [
            "  % Total    % Received % Xferd  Average Speed   Time    Time     Time  Current\n",
            "                                 Dload  Upload   Total   Spent    Left  Speed\n",
            "100  3959    0  3959    0     0  19894      0 --:--:-- --:--:-- --:--:-- 19894\n",
            "100  503k  100  503k    0     0  1012k      0 --:--:-- --:--:-- --:--:-- 1012k\n",
            "  % Total    % Received % Xferd  Average Speed   Time    Time     Time  Current\n",
            "                                 Dload  Upload   Total   Spent    Left  Speed\n",
            "100  3987    0  3987    0     0  27308      0 --:--:-- --:--:-- --:--:-- 27122\n",
            "100  406k  100  406k    0     0  1021k      0 --:--:-- --:--:-- --:--:-- 1021k\n"
          ]
        }
      ]
    },
    {
      "cell_type": "code",
      "source": [
        "import pyupbit\n",
        "import pandas as pd\n",
        "import numpy as np\n",
        "import talib as ta\n",
        "\n",
        "def getPrice(search,n,finish_date):\n",
        "    df=pyupbit.get_ohlcv(search,'hour',p,to=finish_date)\n",
        "    df=df.drop(\"value\",axis=1)\n",
        "    return pd.DataFrame(df)\n",
        "\n",
        "def getADX(data):\n",
        "    adx=ta.ADX(data['high'],data['low'],data['close'],timeperiod=14)\n",
        "    adx=adx[50:]\n",
        "    return pd.DataFrame(adx)\n",
        "\n",
        "def getMA50(data):\n",
        "    MA50=ta.MA(data['close'],timeperiod=50, matype=0)\n",
        "    MA50=MA50[50:]\n",
        "    return pd.DataFrame(MA50)\n",
        "\n",
        "def getMACD_signal(data):\n",
        "    MACD,MACD_signal,MACD_hist=ta.MACD(data['close'],fastperiod=12, slowperiod=26, signalperiod=9)\n",
        "    MACD_signal=MACD_signal[50:]\n",
        "    return pd.DataFrame(MACD_signal)\n",
        "\n",
        "today=datetime.now().date()\n",
        "start=datetime.strptime(\"20171111\", \"%Y%m%d\").date()\n",
        "p=(today-start).days\n",
        "\n",
        "BTC=getPrice('KRW-BTC',p,'today')\n",
        "ETH=getPrice('KRW-ETH',p,'today')\n",
        "ETC=getPrice('KRW-ETC',p,'today')\n",
        "ADA=getPrice('KRW-ADA',p,'today')\n",
        "QTUM=getPrice('KRW-QTUM',p,'today')\n",
        "XRP=getPrice('KRW-XRP',p,'today')\n",
        "\n",
        "ADX_BTC=getADX(BTC)\n",
        "ADX_ETH=getADX(ETH)\n",
        "ADX_ETC=getADX(ETC)\n",
        "ADX_ADA=getADX(ADA)\n",
        "ADX_QTUM=getADX(QTUM)\n",
        "ADX_XRP=getADX(XRP)\n",
        "\n",
        "MA50_BTC=getMA50(BTC)\n",
        "MA50_ETH=getMA50(ETH)\n",
        "MA50_ETC=getMA50(ETC)\n",
        "MA50_ADA=getMA50(ADA)\n",
        "MA50_QTUM=getMA50(QTUM)\n",
        "MA50_XRP=getMA50(XRP)\n",
        "\n",
        "\n",
        "MACD_signal_BTC=getMACD_signal(BTC)\n",
        "MACD_signal_ETH=getMACD_signal(ETH)\n",
        "MACD_signal_ETC=getMACD_signal(ETC)\n",
        "MACD_signal_ADA=getMACD_signal(ADA)\n",
        "MACD_signal_QTUM=getMACD_signal(QTUM)\n",
        "MACD_signal_XRP=getMACD_signal(XRP)\n"
      ],
      "metadata": {
        "id": "6ECTx56K2T2y"
      },
      "execution_count": 20,
      "outputs": []
    },
    {
      "cell_type": "code",
      "source": [
        "Fin_BTC=pd.concat([ADX_BTC,MA50_BTC,MACD_signal_BTC],axis=1)\n",
        "Fin_BTC.columns=['ADX_BTC','MA50_BTC','MACD_signal_BTC']\n",
        "Fin_ETH=pd.concat([ADX_ETH,MA50_ETH,MACD_signal_ETH],axis=1)\n",
        "Fin_ETH.columns=['ADX_ETH','MA50_ETH','MACD_signal_ETH']\n",
        "Fin_ETC=pd.concat([ADX_ETC,MA50_ETC,MACD_signal_ETC],axis=1)\n",
        "Fin_ETC.columns=['ADX_ETC','MA50_ETC','MACD_signal_ETC']\n",
        "Fin_ADA=pd.concat([ADX_ADA,MA50_ADA,MACD_signal_ADA],axis=1)\n",
        "Fin_ADA.columns=['ADX_ADA','MA50_ADA','MACD_signal_ADA']\n",
        "Fin_QTUM=pd.concat([ADX_QTUM,MA50_QTUM,MACD_signal_QTUM],axis=1)\n",
        "Fin_QTUM.columns=['ADX_QTUM','MA50_QTUM','MACD_signal_QTUM']\n",
        "Fin_XRP=pd.concat([ADX_XRP,MA50_XRP,MACD_signal_XRP],axis=1)\n",
        "Fin_XRP.columns=['ADX_XRP','MA50_XRP','MACD_signal_XRP']\n",
        "\n",
        "Fin_Last=pd.concat([Fin_BTC,Fin_ETH,Fin_ETC,Fin_ADA,Fin_QTUM,Fin_XRP],axis=1)\n",
        "Fin_Last.reset_index(drop=True, inplace = True)\n",
        "print(Fin_Last)"
      ],
      "metadata": {
        "id": "7WT4p_VMGdXh",
        "colab": {
          "base_uri": "https://localhost:8080/"
        },
        "outputId": "8ea56f38-9cf6-4978-df8e-ab7f750cd07a"
      },
      "execution_count": 21,
      "outputs": [
        {
          "output_type": "stream",
          "name": "stdout",
          "text": [
            "        ADX_BTC    MA50_BTC  MACD_signal_BTC    ADX_ETH   MA50_ETH  \\\n",
            "0     25.704880  15635440.0     1.671972e+06  20.193102   677713.0   \n",
            "1     25.115793  15890960.0     1.529126e+06  20.874206   694024.0   \n",
            "2     24.568783  16157140.0     1.417729e+06  21.840361   712234.0   \n",
            "3     25.034719  16458180.0     1.368570e+06  23.694196   733436.0   \n",
            "4     26.797373  16832860.0     1.422367e+06  25.885890   757222.0   \n",
            "...         ...         ...              ...        ...        ...   \n",
            "1703  26.289061  29890820.0    -5.350952e+05  24.641658  2174130.0   \n",
            "1704  26.809863  29911320.0    -5.979861e+05  23.914416  2188300.0   \n",
            "1705  26.864642  29920040.0    -6.476737e+05  22.526020  2200400.0   \n",
            "1706  26.944028  29918620.0    -6.869831e+05  21.368137  2210900.0   \n",
            "1707  27.116829  29908960.0    -7.173259e+05  20.292959  2218310.0   \n",
            "\n",
            "      MACD_signal_ETH    ADX_ETC  MA50_ETC  MACD_signal_ETC    ADX_ADA  \\\n",
            "0       119501.776740  27.858373   32466.0      2947.344014  54.961642   \n",
            "1       118596.187726  27.454097   32973.0      2739.928883  55.295073   \n",
            "2       120571.384777  27.078698   33471.4      2627.316280  56.587038   \n",
            "3       126271.288952  27.984227   34110.2      2677.423834  58.301300   \n",
            "4       135553.929022  28.825075   34746.2      2801.965909  59.808228   \n",
            "...               ...        ...       ...              ...        ...   \n",
            "1703     -2249.847279  21.716475   43829.4       797.861842  23.399246   \n",
            "1704     -8989.650781  21.222186   44353.4       557.146777  22.979438   \n",
            "1705    -13807.625751  20.293130   44862.8       347.117480  22.439506   \n",
            "1706    -17519.905232  19.430435   45358.0       162.870843  21.140145   \n",
            "1707    -20320.575385  18.825073   45787.4        -1.672014  20.668756   \n",
            "\n",
            "      MA50_ADA  MACD_signal_ADA   ADX_QTUM  MA50_QTUM  MACD_signal_QTUM  \\\n",
            "0      289.808       143.189948  42.501670    32376.4      12593.401341   \n",
            "1      310.218       152.066834  41.502575    33585.0      12496.371294   \n",
            "2      340.516       168.785905  40.191717    34766.4      12324.384423   \n",
            "3      375.012       192.509593  38.638849    35917.4      12062.570058   \n",
            "4      406.904       216.867164  38.875617    37262.4      11904.588398   \n",
            "...        ...              ...        ...        ...               ...   \n",
            "1703   659.800       -13.951021  29.351697     4847.4       -140.622425   \n",
            "1704   660.800       -14.731329  29.503129     4863.4       -154.950911   \n",
            "1705   661.720       -15.094541  29.256822     4877.6       -165.730274   \n",
            "1706   663.320       -14.568523  29.028108     4891.4       -173.023223   \n",
            "1707   664.940       -13.176389  28.815730     4902.2       -177.593608   \n",
            "\n",
            "        ADX_XRP  MA50_XRP  MACD_signal_XRP  \n",
            "0     84.982398    767.14       410.963859  \n",
            "1     85.501027    822.52       448.313805  \n",
            "2     86.135380    892.48       494.155910  \n",
            "3     86.819398    972.00       549.449455  \n",
            "4     87.231930   1048.12       604.043160  \n",
            "...         ...       ...              ...  \n",
            "1703  17.288220    479.54        -5.429365  \n",
            "1704  16.564100    480.14        -6.220436  \n",
            "1705  16.109365    480.48        -6.804783  \n",
            "1706  15.687111    480.74        -7.229373  \n",
            "1707  15.295018    480.64        -7.531050  \n",
            "\n",
            "[1708 rows x 18 columns]\n"
          ]
        }
      ]
    },
    {
      "cell_type": "code",
      "source": [
        "#LSTM 모델에 넣을 마지막\n",
        "\n",
        "Data=pd.concat([Otherdata,Fin_Last],axis=1)\n",
        "data=Data[-3:]\n",
        "print(Data.isnull().sum())\n",
        "print(data)"
      ],
      "metadata": {
        "colab": {
          "base_uri": "https://localhost:8080/"
        },
        "id": "OkXloHnnMKdb",
        "outputId": "992854b1-a2b6-4b5f-8453-c8fcbdc025e3"
      },
      "execution_count": 52,
      "outputs": [
        {
          "output_type": "stream",
          "name": "stdout",
          "text": [
            "YOpen               0\n",
            "YHigh               0\n",
            "YLow                0\n",
            "YClose              0\n",
            "ovxOpen             0\n",
            "ovxHigh             0\n",
            "ovxLow              0\n",
            "ovxClose            0\n",
            "vixOpen             0\n",
            "vixHigh             0\n",
            "vixLow              0\n",
            "vixClose            0\n",
            "ADX_BTC             0\n",
            "MA50_BTC            0\n",
            "MACD_signal_BTC     0\n",
            "ADX_ETH             0\n",
            "MA50_ETH            0\n",
            "MACD_signal_ETH     0\n",
            "ADX_ETC             0\n",
            "MA50_ETC            0\n",
            "MACD_signal_ETC     0\n",
            "ADX_ADA             0\n",
            "MA50_ADA            0\n",
            "MACD_signal_ADA     0\n",
            "ADX_QTUM            0\n",
            "MA50_QTUM           0\n",
            "MACD_signal_QTUM    0\n",
            "ADX_XRP             0\n",
            "MA50_XRP            0\n",
            "MACD_signal_XRP     0\n",
            "dtype: int64\n",
            "        YOpen     YHigh      YLow    YClose    ovxOpen    ovxHigh     ovxLow  \\\n",
            "1705  3.19500  3.257000  3.286000  3.191000  53.900000  54.550000  54.590000   \n",
            "1706  1.95288  1.951896  1.981155  1.922532  43.075124  42.964299  47.198815   \n",
            "1707  1.95288  1.951896  1.981155  1.922532  43.075124  42.964299  47.198815   \n",
            "\n",
            "       ovxClose    vixOpen    vixHigh  ...  MACD_signal_ETC    ADX_ADA  \\\n",
            "1705  52.850000  25.470000  25.510000  ...       347.117480  22.439506   \n",
            "1706  40.380907  20.722756  20.974182  ...       162.870843  21.140145   \n",
            "1707  40.380907  20.722756  20.974182  ...        -1.672014  20.668756   \n",
            "\n",
            "      MA50_ADA  MACD_signal_ADA   ADX_QTUM  MA50_QTUM  MACD_signal_QTUM  \\\n",
            "1705    661.72       -15.094541  29.256822     4877.6       -165.730274   \n",
            "1706    663.32       -14.568523  29.028108     4891.4       -173.023223   \n",
            "1707    664.94       -13.176389  28.815730     4902.2       -177.593608   \n",
            "\n",
            "        ADX_XRP  MA50_XRP  MACD_signal_XRP  \n",
            "1705  16.109365    480.48        -6.804783  \n",
            "1706  15.687111    480.74        -7.229373  \n",
            "1707  15.295018    480.64        -7.531050  \n",
            "\n",
            "[3 rows x 30 columns]\n"
          ]
        }
      ]
    }
  ]
}