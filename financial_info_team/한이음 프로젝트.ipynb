{
 "cells": [
  {
   "cell_type": "code",
   "execution_count": 2,
   "id": "b456488f",
   "metadata": {
    "scrolled": true
   },
   "outputs": [
    {
     "name": "stdout",
     "output_type": "stream",
     "text": [
      "                          open       high        low      close         volume\n",
      "2018-01-01 09:00:00  1028000.0  1076000.0  1011500.0  1057000.0   51315.571156\n",
      "2018-01-02 09:00:00  1056500.0  1270500.0  1051000.0  1177000.0  158481.289301\n",
      "2018-01-03 09:00:00  1177000.0  1324500.0  1157500.0  1295500.0   83430.944304\n",
      "2018-01-04 09:00:00  1295500.0  1518000.0  1269000.0  1439500.0   97018.955981\n",
      "2018-01-05 09:00:00  1439500.0  1645000.0  1406500.0  1554500.0  109665.854669\n",
      "...                        ...        ...        ...        ...            ...\n",
      "2022-04-26 09:00:00  3766000.0  3799000.0  3553000.0  3596000.0   39317.760548\n",
      "2022-04-27 09:00:00  3597000.0  3702000.0  3580000.0  3677000.0   24282.807473\n",
      "2022-04-28 09:00:00  3677000.0  3786000.0  3646000.0  3737000.0   26791.875509\n",
      "2022-04-29 09:00:00  3737000.0  3753000.0  3603000.0  3628000.0   26801.567048\n",
      "2022-04-30 09:00:00  3630000.0  3656000.0  3564000.0  3570000.0   17625.435214\n",
      "\n",
      "[1581 rows x 5 columns]\n"
     ]
    }
   ],
   "source": [
    "#데이터 불러오기\n",
    "import pyupbit\n",
    "from pyupbit.quotation_api import get_tickers\n",
    "\n",
    "\n",
    "\n",
    "ETH_price = pyupbit.get_current_price(\"KRW-ETH\")\n",
    "\n",
    "\n",
    "df_ETH = pyupbit.get_ohlcv(\"KRW-ETH\",\"hour\",1581, to = '20220501')\n",
    "df_ETH = df_ETH.drop(\"value\",axis=1)\n",
    "print(df_ETH)\n",
    "\n"
   ]
  },
  {
   "cell_type": "code",
   "execution_count": 3,
   "id": "c8e3f26d",
   "metadata": {},
   "outputs": [
    {
     "data": {
      "text/plain": [
       "open      0\n",
       "high      0\n",
       "low       0\n",
       "close     0\n",
       "volume    0\n",
       "dtype: int64"
      ]
     },
     "execution_count": 3,
     "metadata": {},
     "output_type": "execute_result"
    }
   ],
   "source": [
    "#결측치 확인\n",
    "df_ETH.isnull().sum()"
   ]
  },
  {
   "cell_type": "code",
   "execution_count": 4,
   "id": "e9722080",
   "metadata": {},
   "outputs": [],
   "source": [
    "#minmax 정규화\n",
    "from sklearn.preprocessing import MinMaxScaler\n",
    "sc = MinMaxScaler()\n",
    "df_ETH = df_ETH.drop('volume',axis=1)\n",
    "df_ETH = sc.fit_transform(df_ETH)"
   ]
  },
  {
   "cell_type": "code",
   "execution_count": 5,
   "id": "4e1a1425",
   "metadata": {},
   "outputs": [],
   "source": [
    "#훈련데이터, 시험데이터 나누기\n",
    "import pandas as pd\n",
    "df_ETH = pd.DataFrame(df_ETH)\n",
    "\n",
    "df_train = df_ETH.iloc[:1200,:5].values\n",
    "df_test = df_ETH.iloc[:381,:5].values"
   ]
  },
  {
   "cell_type": "code",
   "execution_count": 6,
   "id": "7088aa0a",
   "metadata": {},
   "outputs": [],
   "source": [
    "#학습에 사용할 수 있도록 input 데이터 조정하기\n",
    "import numpy as np\n",
    "\n",
    "x_train = []\n",
    "y_train = []\n",
    "y_train_stacked = []\n",
    "\n",
    "for i in range(3,1199):\n",
    "    x_train.append(df_train[i-3:i,:])\n",
    "    y_train.append(df_train[i:i+1,3])\n",
    "\n",
    "x_train, y_train = np.array(x_train), np.array(y_train)\n",
    "x_train = np.reshape(x_train,(1196,3,4))\n",
    "\n",
    "\n",
    "x_test = []\n",
    "y_test = []\n",
    "\n",
    "for i in range(3,380):\n",
    "    x_test.append(df_test[i-3:i,:])\n",
    "    y_test.append(df_test[i:i+1,3])\n",
    "\n",
    "x_test, y_test = np.array(x_test), np.array(y_test)\n",
    "x_test = np.reshape(x_test,(377,3,4))\n"
   ]
  },
  {
   "cell_type": "code",
   "execution_count": 7,
   "id": "e71f91f7",
   "metadata": {},
   "outputs": [
    {
     "data": {
      "text/plain": [
       "(1196, 1)"
      ]
     },
     "execution_count": 7,
     "metadata": {},
     "output_type": "execute_result"
    }
   ],
   "source": [
    "y_train.shape"
   ]
  },
  {
   "cell_type": "code",
   "execution_count": 8,
   "id": "687e2b5a",
   "metadata": {},
   "outputs": [
    {
     "name": "stderr",
     "output_type": "stream",
     "text": [
      "C:\\Users\\USER\\anaconda3\\lib\\site-packages\\keras\\optimizers\\optimizer_v2\\nadam.py:78: UserWarning: The `lr` argument is deprecated, use `learning_rate` instead.\n",
      "  super(Nadam, self).__init__(name, **kwargs)\n"
     ]
    },
    {
     "data": {
      "text/plain": [
       "<keras.callbacks.History at 0x1a9af96cc70>"
      ]
     },
     "execution_count": 8,
     "metadata": {},
     "output_type": "execute_result"
    }
   ],
   "source": [
    "#LSTM 모델\n",
    "from keras.models import Sequential\n",
    "from keras.layers import Dense, SimpleRNN, GRU, LSTM\n",
    "from keras.optimizers import RMSprop, Nadam, Adam\n",
    "\n",
    "lstm_model = Sequential()\n",
    "\n",
    "lstm_model.add(LSTM(units = 50,\n",
    "                    return_sequences = True,\n",
    "                    input_shape = (3,4),\n",
    "                    activation = 'tanh'))\n",
    "\n",
    "lstm_model.add(LSTM(units = 50,\n",
    "                    activation = 'tanh'))\n",
    "\n",
    "lstm_model.add(Dense(units = 1))\n",
    "\n",
    "lstm_model.compile(optimizer = Nadam(lr=0.01),\n",
    "                  loss = 'Huber')\n",
    "\n",
    "lstm_model.fit(x_train,y_train, epochs = 100, batch_size = 32, verbose = 0)\n",
    "\n"
   ]
  },
  {
   "cell_type": "code",
   "execution_count": 9,
   "id": "68e15eb7",
   "metadata": {},
   "outputs": [
    {
     "name": "stdout",
     "output_type": "stream",
     "text": [
      "12/12 [==============================] - 1s 2ms/step\n"
     ]
    },
    {
     "data": {
      "text/plain": [
       "(377, 1)"
      ]
     },
     "execution_count": 9,
     "metadata": {},
     "output_type": "execute_result"
    }
   ],
   "source": [
    "#예측값\n",
    "lstm_prediction = lstm_model.predict(x_test)\n",
    "\n",
    "lstm_prediction.shape"
   ]
  },
  {
   "cell_type": "code",
   "execution_count": 10,
   "id": "eafeba0b",
   "metadata": {},
   "outputs": [
    {
     "data": {
      "image/png": "[encoded data removed]",
      "text/plain": [
       "<Figure size 432x288 with 1 Axes>"
      ]
     },
     "metadata": {
      "needs_background": "light"
     },
     "output_type": "display_data"
    }
   ],
   "source": [
    "#예측값과 실제값 비교하기\n",
    "import matplotlib.pyplot as plt\n",
    "\n",
    "x1 = []\n",
    "for i in range(377):\n",
    "    x1.append(i)\n",
    "\n",
    "    \n",
    "x2 = []\n",
    "for i in range(377):\n",
    "    x2.append(i)  \n",
    "        \n",
    "    \n",
    "plt.plot(x1,lstm_prediction,label = 'prediction')\n",
    "plt.plot(x2, y_test,label = 'true price')\n",
    "plt.legend()\n",
    "plt.show()\n"
   ]
  },
  {
   "cell_type": "code",
   "execution_count": 21,
   "id": "35bf10b8",
   "metadata": {},
   "outputs": [
    {
     "name": "stdout",
     "output_type": "stream",
     "text": [
      "[[1261782.16743693 1282379.22346458 1232594.73745748 1261782.16743693]\n",
      " [1425607.60945529 1448887.58662671 1392604.6479091  1425607.60945529]\n",
      " [1544723.64904433 1569954.35460836 1508946.44801766 1544723.64904433]\n",
      " ...\n",
      " [ 124702.28580269  126677.71860133  121997.70322978  124702.28580269]\n",
      " [ 112770.99857815  114551.03619047  110344.29838099  112770.99857815]\n",
      " [ 121061.69005074  122977.50188209  118441.89777561  121061.69005074]]\n"
     ]
    }
   ],
   "source": [
    "# 정규화 복원하기\n",
    "a = np.zeros((377,4))\n",
    "b = a + lstm_prediction\n",
    "lstm_prediction_orginal = sc.inverse_transform(b)\n",
    "\n",
    "print(lstm_prediction_orginal)"
   ]
  },
  {
   "cell_type": "code",
   "execution_count": null,
   "id": "1614d2f2",
   "metadata": {},
   "outputs": [],
   "source": [
    "사용한 하이퍼 파라미터\n",
    "1. 정규화 : minmax\n",
    "2. time series : 3 (몇개의 series로 예측할 건지)\n",
    "3. period : 1(몇개의 series를 예측할 건지)\n",
    "4. 학습데이터/시험데이터 : 1200/381\n",
    "5. lstm : 코드참조\n",
    "6. optimizer : Nadam\n",
    "7. loss : Huber\n",
    "8. 학습률 : 0.01\n",
    "9. 에폭 : 100\n",
    "10. 배치사이즈 : 32\n",
    "\n",
    "보완점\n",
    "1. 정규화 하고 복원하기\n",
    "2. 배치 정규화\n",
    "3. 하이퍼 파라미터 조정\n",
    "4. LSTM층 다양하게 만들기\n",
    "5. early stop\n",
    "6. dropout\n",
    "7. 그래프 이쁘게 손보기\n",
    "\n",
    "\n",
    "\n"
   ]
  }
 ],
 "metadata": {
  "kernelspec": {
   "display_name": "Python 3 (ipykernel)",
   "language": "python",
   "name": "python3"
  },
  "language_info": {
   "codemirror_mode": {
    "name": "ipython",
    "version": 3
   },
   "file_extension": ".py",
   "mimetype": "text/x-python",
   "name": "python",
   "nbconvert_exporter": "python",
   "pygments_lexer": "ipython3",
   "version": "3.9.7"
  }
 },
 "nbformat": 4,
 "nbformat_minor": 5
}
