{
 "cells": [
  {
   "cell_type": "code",
   "execution_count": 1,
   "metadata": {},
   "outputs": [
    {
     "name": "stderr",
     "output_type": "stream",
     "text": [
      "Lock 2751588379568 acquired on C:\\Users\\kjsjh/.cache\\huggingface\\transformers\\70d1215b8fdafe3265e07d33b038971980e2f845842193d327e57e391fc58393.e033c3bdc62e71f1b657c29753d6b96d9d23207bef18e9ab1e2b6310e55d94e4.lock\n",
      "Downloading: 100%|██████████| 533/533 [00:00<00:00, 537kB/s]\n",
      "Lock 2751588379568 released on C:\\Users\\kjsjh/.cache\\huggingface\\transformers\\70d1215b8fdafe3265e07d33b038971980e2f845842193d327e57e391fc58393.e033c3bdc62e71f1b657c29753d6b96d9d23207bef18e9ab1e2b6310e55d94e4.lock\n",
      "Lock 2751684799504 acquired on C:\\Users\\kjsjh/.cache\\huggingface\\transformers\\cef34f0ea8c630e534f17fc33932232df2677846d5253c58f57df5c1f256ea18.3799242aa8231b893218eece5b54bcaa615bed18c4f153130b35e8a3fa35aec1.lock\n",
      "Downloading: 100%|██████████| 419M/419M [00:29<00:00, 15.1MB/s]  \n",
      "Lock 2751684799504 released on C:\\Users\\kjsjh/.cache\\huggingface\\transformers\\cef34f0ea8c630e534f17fc33932232df2677846d5253c58f57df5c1f256ea18.3799242aa8231b893218eece5b54bcaa615bed18c4f153130b35e8a3fa35aec1.lock\n",
      "Lock 2751588609472 acquired on C:\\Users\\kjsjh/.cache\\huggingface\\transformers\\b620ec83f2529667e351be5345b380143dba91cc04f3ee400daf789ac0dc2dde.96da363c8cf320099a2e1f334de3e31c7dd233167e39131096562bd5894c4141.lock\n",
      "Downloading: 100%|██████████| 221k/221k [00:00<00:00, 285kB/s]  \n",
      "Lock 2751588609472 released on C:\\Users\\kjsjh/.cache\\huggingface\\transformers\\b620ec83f2529667e351be5345b380143dba91cc04f3ee400daf789ac0dc2dde.96da363c8cf320099a2e1f334de3e31c7dd233167e39131096562bd5894c4141.lock\n"
     ]
    },
    {
     "name": "stdout",
     "output_type": "stream",
     "text": [
      "[{'label': 'Negative', 'score': 0.9966173768043518}, {'label': 'Positive', 'score': 1.0}, {'label': 'Negative', 'score': 0.9999710321426392}, {'label': 'Neutral', 'score': 0.9889441728591919}]\n"
     ]
    }
   ],
   "source": [
    "from transformers import BertTokenizer, BertForSequenceClassification\n",
    "from transformers import pipeline\n",
    "\n",
    "finbert = BertForSequenceClassification.from_pretrained('yiyanghkust/finbert-tone',num_labels=3)\n",
    "tokenizer = BertTokenizer.from_pretrained('yiyanghkust/finbert-tone')\n",
    "\n",
    "model = pipeline(\"sentiment-analysis\", model=finbert, tokenizer=tokenizer)\n",
    "\n",
    "sentences = [\"there is a shortage of capital, and we need extra financing\",  \n",
    "             \"growth is strong and we have plenty of liquidity\", \n",
    "             \"there are doubts about our finances\", \n",
    "             \"profits are flat\"]\n",
    "results = model(sentences)\n",
    "print(results)  #LABEL_0: neutral; LABEL_1: positive; LABEL_2: negative"
   ]
  },
  {
   "cell_type": "code",
   "execution_count": 3,
   "metadata": {},
   "outputs": [],
   "source": [
    "from transformers import BertTokenizer, BertForSequenceClassification\n",
    "from transformers import pipeline\n",
    "\n",
    "finbert = BertForSequenceClassification.from_pretrained('yiyanghkust/finbert-tone',num_labels=3)\n",
    "tokenizer = BertTokenizer.from_pretrained('yiyanghkust/finbert-tone')\n",
    "\n",
    "model = pipeline(\"sentiment-analysis\", model=finbert, tokenizer=tokenizer)\n",
    "\n",
    "def get_sentiment(string:str):\n",
    "    result = list(model(string)[0].values())[0]\n",
    "    return 1 if result == 'Positive' else -1 if result == 'Negative' else 0"
   ]
  },
  {
   "cell_type": "code",
   "execution_count": 4,
   "metadata": {},
   "outputs": [
    {
     "name": "stdout",
     "output_type": "stream",
     "text": [
      "1\n"
     ]
    }
   ],
   "source": [
    "print(get_sentiment('This thing is amazing, I love it. GREAT!'))"
   ]
  },
  {
   "cell_type": "code",
   "execution_count": null,
   "metadata": {},
   "outputs": [],
   "source": [
    "# from transformers import BertTokenizer, BertForSequenceClassification\n",
    "# from transformers import pipeline\n",
    "\n",
    "# finbert = BertForSequenceClassification.from_pretrained('yiyanghkust/finbert-tone',num_labels=3)\n",
    "# tokenizer = BertTokenizer.from_pretrained('yiyanghkust/finbert-tone')\n",
    "\n",
    "# model = pipeline(\"sentiment-analysis\", model=finbert, tokenizer=tokenizer)\n",
    "\n",
    "# def get_sentiments(strings:list):\n",
    "#     result = \n",
    "# strings = ['This thing is amazing, I love it. GREAT!','I hate this thing, this is awful',\n",
    "#            'This is not bad at all','This is not bad','CPU means central processing unit',\n",
    "#            \"there is a shortage of capital, and we need extra financing\",\n",
    "#            \"growth is strong and we have plenty of liquidity\",\n",
    "#            \"there are doubts about our finances\",\"profits are flat\"]"
   ]
  }
 ],
 "metadata": {
  "kernelspec": {
   "display_name": "Python 3.8.8 ('base')",
   "language": "python",
   "name": "python3"
  },
  "language_info": {
   "codemirror_mode": {
    "name": "ipython",
    "version": 3
   },
   "file_extension": ".py",
   "mimetype": "text/x-python",
   "name": "python",
   "nbconvert_exporter": "python",
   "pygments_lexer": "ipython3",
   "version": "3.8.8"
  },
  "orig_nbformat": 4,
  "vscode": {
   "interpreter": {
    "hash": "7559f6fd77b8427a5fb782dfa8ce0e49fdb43f868423430e09327111b43e761a"
   }
  }
 },
 "nbformat": 4,
 "nbformat_minor": 2
}
