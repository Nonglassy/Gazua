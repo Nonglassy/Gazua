{
  "nbformat": 4,
  "nbformat_minor": 0,
  "metadata": {
    "colab": {
      "provenance": [],
      "collapsed_sections": [],
      "authorship_tag": "ABX9TyMBnP/Q3vWodnQcOWWabxBL",
      "include_colab_link": true
    },
    "kernelspec": {
      "name": "python3",
      "display_name": "Python 3"
    },
    "language_info": {
      "name": "python"
    }
  },
  "cells": [
    {
      "cell_type": "markdown",
      "metadata": {
        "id": "view-in-github",
        "colab_type": "text"
      },
      "source": [
        "<a href=\"https://colab.research.google.com/github/Nonglassy/Gazua/blob/main/%EA%B2%BD%EC%A0%9C%EC%A7%80%ED%91%9C_%EB%B0%8F_%EA%B8%B0%EC%88%A0%EC%A7%80%ED%91%9C_%EB%8D%B0%EC%9D%B4%ED%84%B0.ipynb\" target=\"_parent\"><img src=\"https://colab.research.google.com/assets/colab-badge.svg\" alt=\"Open In Colab\"/></a>"
      ]
    },
    {
      "cell_type": "code",
      "source": [
        "#경제지표\n",
        "import requests\n",
        "import pandas as pd\n",
        "import json\n",
        "\n",
        "def getdata(search_text,st_date,end_date):\n",
        "    headers={'User-Agent':'Mozilla/5.0 (Windows NT 10.0; Win64; x64) AppleWebKit/537.36 (KHTML, like Gecko) Chrome/104.0.0.0 Safari/537.36','X-Requested-With':'XMLHttpRequest',}\n",
        "    data={'search_text':search_text,}\n",
        "    result1=requests.post('https://www.investing.com/search/service/searchTopBar',data=data,headers=headers)\n",
        "    data=result1.json()\n",
        "    first_quote_result=data['quotes'][0]\n",
        "    curr_id=first_quote_result['pairId'] \n",
        "    data={'curr_id':curr_id,'st_date':st_date,'end_date':end_date,'interval_sec':'Daily','action':'historical_data',}\n",
        "    result2=requests.post('https://www.investing.com/instruments/HistoricalDataAjax',data=data,headers=headers)\n",
        "    data=result2.text\n",
        "    data=pd.read_html(data)\n",
        "    hist_data=data[0]\n",
        "    return pd.DataFrame(hist_data)\n"
      ],
      "metadata": {
        "id": "hLDQ_XVgL6aK"
      },
      "execution_count": 35,
      "outputs": []
    },
    {
      "cell_type": "code",
      "source": [
        "Bitcoin=getdata('bitcoin','01/01/2018','04/30/2022')\n",
        "TenYear=getdata('united states 10-Year','01/01/2018','04/30/2022')\n",
        "OVX=getdata('ovx','01/01/2018','04/30/2022')\n",
        "VIX=getdata('vix','01/01/2018','04/30/2022')"
      ],
      "metadata": {
        "id": "Qw1mG7W5L6Dt"
      },
      "execution_count": 36,
      "outputs": []
    },
    {
      "cell_type": "code",
      "source": [
        "import numpy as np\n",
        "import pandas as pd \n",
        "from sklearn.linear_model import LinearRegression\n",
        "from sklearn.experimental import enable_iterative_imputer\n",
        "from sklearn.impute import IterativeImputer\n",
        "\n",
        "lr=LinearRegression()\n",
        "imp=IterativeImputer(estimator=lr, tol=1e-10, max_iter=30, verbose=2, imputation_order='roman')\n",
        "\n",
        "Bitcoin=Bitcoin.drop(Bitcoin.columns[1:],axis=1)\n",
        "TenYear=TenYear.drop(TenYear.columns[5],axis=1)\n",
        "OVX=OVX.drop(OVX.columns[5:7],axis=1)\n",
        "VIX=VIX.drop(VIX.columns[5:7],axis=1)\n",
        "TenYear.columns=['Date','YOpen','YHigh','YLow','YClose']\n",
        "OVX.columns=['Date','ovxOpen','ovxHigh','ovxYLow','ovxClose']\n",
        "VIX.columns=['Date','vixOpen','vixHigh','vixLow','vixClose']\n",
        "\n",
        "data=pd.merge(left=Bitcoin, right=TenYear, how='outer',on=\"Date\")\n",
        "data=pd.merge(left=data, right=OVX, how='outer',on=\"Date\")\n",
        "data=pd.merge(left=data, right=VIX, how='outer',on=\"Date\")\n",
        "data=data.drop(data.columns[0],axis=1)\n",
        "\n",
        "data=imp.fit_transform(data)\n",
        "\n",
        "from datetime import datetime\n",
        "from pytz import timezone\n",
        "\n",
        "Otherdata = pd.DataFrame(data, columns=['YOpen','YHigh','YLow','YClose','ovxOpen','ovxHigh','ovxLow','ovxClose','vixOpen','vixHigh','vixLow','vixClose'])\n",
        "Otherdata=pd.concat([Bitcoin, Otherdata], axis = 1)\n",
        "Otherdata['Date']=pd.to_datetime(Otherdata['Date'])\n",
        "Otherdata=Otherdata.sort_values(by=['Date'])\n",
        "Otherdata=Otherdata.drop(Otherdata.columns[0],axis=1)\n",
        "Otherdata.reset_index(drop=True, inplace = True)"
      ],
      "metadata": {
        "colab": {
          "base_uri": "https://localhost:8080/"
        },
        "id": "EJ1US1zUL53S",
        "outputId": "469d6996-bad4-4149-84f3-5b6138894fe2"
      },
      "execution_count": 37,
      "outputs": [
        {
          "output_type": "stream",
          "name": "stdout",
          "text": [
            "[IterativeImputer] Completing matrix with shape (1581, 12)\n",
            "[IterativeImputer] Ending imputation round 1/30, elapsed time 0.02\n",
            "[IterativeImputer] Change: 8.79915173316312, scaled tolerance: 5.171900000000001e-08 \n",
            "[IterativeImputer] Ending imputation round 2/30, elapsed time 0.05\n",
            "[IterativeImputer] Change: 3.501868127243106, scaled tolerance: 5.171900000000001e-08 \n",
            "[IterativeImputer] Ending imputation round 3/30, elapsed time 0.07\n",
            "[IterativeImputer] Change: 4.1998925705043675, scaled tolerance: 5.171900000000001e-08 \n",
            "[IterativeImputer] Ending imputation round 4/30, elapsed time 0.10\n",
            "[IterativeImputer] Change: 4.13939449895486, scaled tolerance: 5.171900000000001e-08 \n",
            "[IterativeImputer] Ending imputation round 5/30, elapsed time 0.12\n",
            "[IterativeImputer] Change: 3.963913444078936, scaled tolerance: 5.171900000000001e-08 \n",
            "[IterativeImputer] Ending imputation round 6/30, elapsed time 0.15\n",
            "[IterativeImputer] Change: 3.7810651044078134, scaled tolerance: 5.171900000000001e-08 \n",
            "[IterativeImputer] Ending imputation round 7/30, elapsed time 0.17\n",
            "[IterativeImputer] Change: 3.6067507959496727, scaled tolerance: 5.171900000000001e-08 \n",
            "[IterativeImputer] Ending imputation round 8/30, elapsed time 0.19\n",
            "[IterativeImputer] Change: 3.441742180594906, scaled tolerance: 5.171900000000001e-08 \n",
            "[IterativeImputer] Ending imputation round 9/30, elapsed time 0.22\n",
            "[IterativeImputer] Change: 3.2850841368304504, scaled tolerance: 5.171900000000001e-08 \n",
            "[IterativeImputer] Ending imputation round 10/30, elapsed time 0.25\n",
            "[IterativeImputer] Change: 3.1358856778510087, scaled tolerance: 5.171900000000001e-08 \n",
            "[IterativeImputer] Ending imputation round 11/30, elapsed time 0.27\n",
            "[IterativeImputer] Change: 2.99361426963306, scaled tolerance: 5.171900000000001e-08 \n",
            "[IterativeImputer] Ending imputation round 12/30, elapsed time 0.31\n",
            "[IterativeImputer] Change: 2.857866450717712, scaled tolerance: 5.171900000000001e-08 \n",
            "[IterativeImputer] Ending imputation round 13/30, elapsed time 0.34\n",
            "[IterativeImputer] Change: 2.728306062840087, scaled tolerance: 5.171900000000001e-08 \n",
            "[IterativeImputer] Ending imputation round 14/30, elapsed time 0.36\n",
            "[IterativeImputer] Change: 2.604634537507537, scaled tolerance: 5.171900000000001e-08 \n",
            "[IterativeImputer] Ending imputation round 15/30, elapsed time 0.39\n",
            "[IterativeImputer] Change: 2.4865773353404923, scaled tolerance: 5.171900000000001e-08 \n",
            "[IterativeImputer] Ending imputation round 16/30, elapsed time 0.41\n",
            "[IterativeImputer] Change: 2.373877484358346, scaled tolerance: 5.171900000000001e-08 \n",
            "[IterativeImputer] Ending imputation round 17/30, elapsed time 0.44\n",
            "[IterativeImputer] Change: 2.2662922052404264, scaled tolerance: 5.171900000000001e-08 \n",
            "[IterativeImputer] Ending imputation round 18/30, elapsed time 0.46\n",
            "[IterativeImputer] Change: 2.1635909481911724, scaled tolerance: 5.171900000000001e-08 \n",
            "[IterativeImputer] Ending imputation round 19/30, elapsed time 0.49\n",
            "[IterativeImputer] Change: 2.0655541295268973, scaled tolerance: 5.171900000000001e-08 \n",
            "[IterativeImputer] Ending imputation round 20/30, elapsed time 0.51\n",
            "[IterativeImputer] Change: 1.971972245535346, scaled tolerance: 5.171900000000001e-08 \n",
            "[IterativeImputer] Ending imputation round 21/30, elapsed time 0.53\n",
            "[IterativeImputer] Change: 1.882645204506919, scaled tolerance: 5.171900000000001e-08 \n",
            "[IterativeImputer] Ending imputation round 22/30, elapsed time 0.56\n",
            "[IterativeImputer] Change: 1.7973817915842263, scaled tolerance: 5.171900000000001e-08 \n",
            "[IterativeImputer] Ending imputation round 23/30, elapsed time 0.58\n",
            "[IterativeImputer] Change: 1.7159992176609682, scaled tolerance: 5.171900000000001e-08 \n",
            "[IterativeImputer] Ending imputation round 24/30, elapsed time 0.61\n",
            "[IterativeImputer] Change: 1.6383227234107873, scaled tolerance: 5.171900000000001e-08 \n",
            "[IterativeImputer] Ending imputation round 25/30, elapsed time 0.63\n",
            "[IterativeImputer] Change: 1.56418522083099, scaled tolerance: 5.171900000000001e-08 \n",
            "[IterativeImputer] Ending imputation round 26/30, elapsed time 0.66\n",
            "[IterativeImputer] Change: 1.4934269615233868, scaled tolerance: 5.171900000000001e-08 \n",
            "[IterativeImputer] Ending imputation round 27/30, elapsed time 0.68\n",
            "[IterativeImputer] Change: 1.425895225051261, scaled tolerance: 5.171900000000001e-08 \n",
            "[IterativeImputer] Ending imputation round 28/30, elapsed time 0.71\n",
            "[IterativeImputer] Change: 1.361444023262453, scaled tolerance: 5.171900000000001e-08 \n",
            "[IterativeImputer] Ending imputation round 29/30, elapsed time 0.73\n",
            "[IterativeImputer] Change: 1.2999338179977538, scaled tolerance: 5.171900000000001e-08 \n",
            "[IterativeImputer] Ending imputation round 30/30, elapsed time 0.76\n",
            "[IterativeImputer] Change: 1.2412312505558776, scaled tolerance: 5.171900000000001e-08 \n"
          ]
        },
        {
          "output_type": "stream",
          "name": "stderr",
          "text": [
            "/usr/local/lib/python3.7/dist-packages/sklearn/impute/_iterative.py:701: ConvergenceWarning: [IterativeImputer] Early stopping criterion not reached.\n",
            "  ConvergenceWarning,\n"
          ]
        }
      ]
    },
    {
      "cell_type": "code",
      "execution_count": 8,
      "metadata": {
        "colab": {
          "base_uri": "https://localhost:8080/"
        },
        "id": "ygcTPlXU0-id",
        "outputId": "e18549f4-3f22-491b-f1e7-4ee0174c7926"
      },
      "outputs": [
        {
          "output_type": "stream",
          "name": "stdout",
          "text": [
            "Looking in indexes: https://pypi.org/simple, https://us-python.pkg.dev/colab-wheels/public/simple/\n",
            "Requirement already satisfied: pyupbit in /usr/local/lib/python3.7/dist-packages (0.2.33)\n",
            "Requirement already satisfied: requests in /usr/local/lib/python3.7/dist-packages (from pyupbit) (2.23.0)\n",
            "Requirement already satisfied: pandas in /usr/local/lib/python3.7/dist-packages (from pyupbit) (1.3.5)\n",
            "Requirement already satisfied: pyjwt>=2.0.0 in /usr/local/lib/python3.7/dist-packages (from pyupbit) (2.4.0)\n",
            "Requirement already satisfied: websockets in /usr/local/lib/python3.7/dist-packages (from pyupbit) (10.3)\n",
            "Requirement already satisfied: numpy>=1.17.3 in /usr/local/lib/python3.7/dist-packages (from pandas->pyupbit) (1.21.6)\n",
            "Requirement already satisfied: pytz>=2017.3 in /usr/local/lib/python3.7/dist-packages (from pandas->pyupbit) (2022.2.1)\n",
            "Requirement already satisfied: python-dateutil>=2.7.3 in /usr/local/lib/python3.7/dist-packages (from pandas->pyupbit) (2.8.2)\n",
            "Requirement already satisfied: six>=1.5 in /usr/local/lib/python3.7/dist-packages (from python-dateutil>=2.7.3->pandas->pyupbit) (1.15.0)\n",
            "Requirement already satisfied: idna<3,>=2.5 in /usr/local/lib/python3.7/dist-packages (from requests->pyupbit) (2.10)\n",
            "Requirement already satisfied: chardet<4,>=3.0.2 in /usr/local/lib/python3.7/dist-packages (from requests->pyupbit) (3.0.4)\n",
            "Requirement already satisfied: certifi>=2017.4.17 in /usr/local/lib/python3.7/dist-packages (from requests->pyupbit) (2022.6.15)\n",
            "Requirement already satisfied: urllib3!=1.25.0,!=1.25.1,<1.26,>=1.21.1 in /usr/local/lib/python3.7/dist-packages (from requests->pyupbit) (1.24.3)\n",
            "Looking in indexes: https://pypi.org/simple, https://us-python.pkg.dev/colab-wheels/public/simple/\n",
            "Requirement already satisfied: tensorflow in /usr/local/lib/python3.7/dist-packages (2.8.2+zzzcolab20220719082949)\n",
            "Requirement already satisfied: flatbuffers>=1.12 in /usr/local/lib/python3.7/dist-packages (from tensorflow) (2.0.7)\n",
            "Requirement already satisfied: protobuf<3.20,>=3.9.2 in /usr/local/lib/python3.7/dist-packages (from tensorflow) (3.17.3)\n",
            "Requirement already satisfied: h5py>=2.9.0 in /usr/local/lib/python3.7/dist-packages (from tensorflow) (3.1.0)\n",
            "Requirement already satisfied: tensorflow-estimator<2.9,>=2.8 in /usr/local/lib/python3.7/dist-packages (from tensorflow) (2.8.0)\n",
            "Requirement already satisfied: termcolor>=1.1.0 in /usr/local/lib/python3.7/dist-packages (from tensorflow) (1.1.0)\n",
            "Requirement already satisfied: wrapt>=1.11.0 in /usr/local/lib/python3.7/dist-packages (from tensorflow) (1.14.1)\n",
            "Requirement already satisfied: libclang>=9.0.1 in /usr/local/lib/python3.7/dist-packages (from tensorflow) (14.0.6)\n",
            "Requirement already satisfied: numpy>=1.20 in /usr/local/lib/python3.7/dist-packages (from tensorflow) (1.21.6)\n",
            "Requirement already satisfied: google-pasta>=0.1.1 in /usr/local/lib/python3.7/dist-packages (from tensorflow) (0.2.0)\n",
            "Requirement already satisfied: six>=1.12.0 in /usr/local/lib/python3.7/dist-packages (from tensorflow) (1.15.0)\n",
            "Requirement already satisfied: setuptools in /usr/local/lib/python3.7/dist-packages (from tensorflow) (57.4.0)\n",
            "Requirement already satisfied: tensorboard<2.9,>=2.8 in /usr/local/lib/python3.7/dist-packages (from tensorflow) (2.8.0)\n",
            "Requirement already satisfied: typing-extensions>=3.6.6 in /usr/local/lib/python3.7/dist-packages (from tensorflow) (4.1.1)\n",
            "Requirement already satisfied: astunparse>=1.6.0 in /usr/local/lib/python3.7/dist-packages (from tensorflow) (1.6.3)\n",
            "Requirement already satisfied: keras<2.9,>=2.8.0rc0 in /usr/local/lib/python3.7/dist-packages (from tensorflow) (2.8.0)\n",
            "Requirement already satisfied: keras-preprocessing>=1.1.1 in /usr/local/lib/python3.7/dist-packages (from tensorflow) (1.1.2)\n",
            "Requirement already satisfied: gast>=0.2.1 in /usr/local/lib/python3.7/dist-packages (from tensorflow) (0.5.3)\n",
            "Requirement already satisfied: opt-einsum>=2.3.2 in /usr/local/lib/python3.7/dist-packages (from tensorflow) (3.3.0)\n",
            "Requirement already satisfied: tensorflow-io-gcs-filesystem>=0.23.1 in /usr/local/lib/python3.7/dist-packages (from tensorflow) (0.26.0)\n",
            "Requirement already satisfied: absl-py>=0.4.0 in /usr/local/lib/python3.7/dist-packages (from tensorflow) (1.2.0)\n",
            "Requirement already satisfied: grpcio<2.0,>=1.24.3 in /usr/local/lib/python3.7/dist-packages (from tensorflow) (1.47.0)\n",
            "Requirement already satisfied: wheel<1.0,>=0.23.0 in /usr/local/lib/python3.7/dist-packages (from astunparse>=1.6.0->tensorflow) (0.37.1)\n",
            "Requirement already satisfied: cached-property in /usr/local/lib/python3.7/dist-packages (from h5py>=2.9.0->tensorflow) (1.5.2)\n",
            "Requirement already satisfied: google-auth<3,>=1.6.3 in /usr/local/lib/python3.7/dist-packages (from tensorboard<2.9,>=2.8->tensorflow) (1.35.0)\n",
            "Requirement already satisfied: markdown>=2.6.8 in /usr/local/lib/python3.7/dist-packages (from tensorboard<2.9,>=2.8->tensorflow) (3.4.1)\n",
            "Requirement already satisfied: tensorboard-plugin-wit>=1.6.0 in /usr/local/lib/python3.7/dist-packages (from tensorboard<2.9,>=2.8->tensorflow) (1.8.1)\n",
            "Requirement already satisfied: werkzeug>=0.11.15 in /usr/local/lib/python3.7/dist-packages (from tensorboard<2.9,>=2.8->tensorflow) (1.0.1)\n",
            "Requirement already satisfied: google-auth-oauthlib<0.5,>=0.4.1 in /usr/local/lib/python3.7/dist-packages (from tensorboard<2.9,>=2.8->tensorflow) (0.4.6)\n",
            "Requirement already satisfied: requests<3,>=2.21.0 in /usr/local/lib/python3.7/dist-packages (from tensorboard<2.9,>=2.8->tensorflow) (2.23.0)\n",
            "Requirement already satisfied: tensorboard-data-server<0.7.0,>=0.6.0 in /usr/local/lib/python3.7/dist-packages (from tensorboard<2.9,>=2.8->tensorflow) (0.6.1)\n",
            "Requirement already satisfied: rsa<5,>=3.1.4 in /usr/local/lib/python3.7/dist-packages (from google-auth<3,>=1.6.3->tensorboard<2.9,>=2.8->tensorflow) (4.9)\n",
            "Requirement already satisfied: pyasn1-modules>=0.2.1 in /usr/local/lib/python3.7/dist-packages (from google-auth<3,>=1.6.3->tensorboard<2.9,>=2.8->tensorflow) (0.2.8)\n",
            "Requirement already satisfied: cachetools<5.0,>=2.0.0 in /usr/local/lib/python3.7/dist-packages (from google-auth<3,>=1.6.3->tensorboard<2.9,>=2.8->tensorflow) (4.2.4)\n",
            "Requirement already satisfied: requests-oauthlib>=0.7.0 in /usr/local/lib/python3.7/dist-packages (from google-auth-oauthlib<0.5,>=0.4.1->tensorboard<2.9,>=2.8->tensorflow) (1.3.1)\n",
            "Requirement already satisfied: importlib-metadata>=4.4 in /usr/local/lib/python3.7/dist-packages (from markdown>=2.6.8->tensorboard<2.9,>=2.8->tensorflow) (4.12.0)\n",
            "Requirement already satisfied: zipp>=0.5 in /usr/local/lib/python3.7/dist-packages (from importlib-metadata>=4.4->markdown>=2.6.8->tensorboard<2.9,>=2.8->tensorflow) (3.8.1)\n",
            "Requirement already satisfied: pyasn1<0.5.0,>=0.4.6 in /usr/local/lib/python3.7/dist-packages (from pyasn1-modules>=0.2.1->google-auth<3,>=1.6.3->tensorboard<2.9,>=2.8->tensorflow) (0.4.8)\n",
            "Requirement already satisfied: chardet<4,>=3.0.2 in /usr/local/lib/python3.7/dist-packages (from requests<3,>=2.21.0->tensorboard<2.9,>=2.8->tensorflow) (3.0.4)\n",
            "Requirement already satisfied: certifi>=2017.4.17 in /usr/local/lib/python3.7/dist-packages (from requests<3,>=2.21.0->tensorboard<2.9,>=2.8->tensorflow) (2022.6.15)\n",
            "Requirement already satisfied: urllib3!=1.25.0,!=1.25.1,<1.26,>=1.21.1 in /usr/local/lib/python3.7/dist-packages (from requests<3,>=2.21.0->tensorboard<2.9,>=2.8->tensorflow) (1.24.3)\n",
            "Requirement already satisfied: idna<3,>=2.5 in /usr/local/lib/python3.7/dist-packages (from requests<3,>=2.21.0->tensorboard<2.9,>=2.8->tensorflow) (2.10)\n",
            "Requirement already satisfied: oauthlib>=3.0.0 in /usr/local/lib/python3.7/dist-packages (from requests-oauthlib>=0.7.0->google-auth-oauthlib<0.5,>=0.4.1->tensorboard<2.9,>=2.8->tensorflow) (3.2.0)\n"
          ]
        }
      ],
      "source": [
        "#기술지표\n",
        "!pip install pyupbit\n",
        "!pip install tensorflow"
      ]
    },
    {
      "cell_type": "code",
      "source": [
        "url = 'https://anaconda.org/conda-forge/libta-lib/0.4.0/download/linux-64/libta-lib-0.4.0-h516909a_0.tar.bz2'\n",
        "!curl -L $url | tar xj -C /usr/lib/x86_64-linux-gnu/ lib --strip-components=1\n",
        "url = 'https://anaconda.org/conda-forge/ta-lib/0.4.19/download/linux-64/ta-lib-0.4.19-py37ha21ca33_2.tar.bz2'\n",
        "!curl -L $url | tar xj -C /usr/local/lib/python3.7/dist-packages/ lib/python3.7/site-packages/talib --strip-components=3"
      ],
      "metadata": {
        "colab": {
          "base_uri": "https://localhost:8080/"
        },
        "id": "8Fm6kR2f7V8i",
        "outputId": "b505a32e-48a1-438d-df94-e4e04290576a"
      },
      "execution_count": 9,
      "outputs": [
        {
          "output_type": "stream",
          "name": "stdout",
          "text": [
            "  % Total    % Received % Xferd  Average Speed   Time    Time     Time  Current\n",
            "                                 Dload  Upload   Total   Spent    Left  Speed\n",
            "100  4075    0  4075    0     0  23285      0 --:--:-- --:--:-- --:--:-- 23419\n",
            "100  503k  100  503k    0     0  1117k      0 --:--:-- --:--:-- --:--:-- 1117k\n",
            "  % Total    % Received % Xferd  Average Speed   Time    Time     Time  Current\n",
            "                                 Dload  Upload   Total   Spent    Left  Speed\n",
            "100  4055    0  4055    0     0  21455      0 --:--:-- --:--:-- --:--:-- 21569\n",
            "100  406k  100  406k    0     0   907k      0 --:--:-- --:--:-- --:--:-- 4025k\n"
          ]
        }
      ]
    },
    {
      "cell_type": "code",
      "source": [
        "import pyupbit\n",
        "import pandas as pd\n",
        "import numpy as np\n",
        "import talib as ta\n",
        "\n",
        "def getPrice(search,n,finish_date):\n",
        "    df=pyupbit.get_ohlcv(search,'hour',n,to=finish_date)\n",
        "    df=df.drop(\"value\",axis=1)\n",
        "    return pd.DataFrame(df)\n",
        "\n",
        "def getADX(data):\n",
        "    adx=ta.ADX(data['high'],data['low'],data['close'],timeperiod=14)\n",
        "    adx=adx[-1581:]\n",
        "    return pd.DataFrame(adx)\n",
        "\n",
        "def getMA50(data):\n",
        "    MA50=ta.MA(data['close'],timeperiod=50, matype=0)\n",
        "    MA50=MA50[-1581:]\n",
        "    return pd.DataFrame(MA50)\n",
        "\n",
        "def getMACD_signal(data):\n",
        "    MACD,MACD_signal,MACD_hist=ta.MACD(data['close'],fastperiod=12, slowperiod=26, signalperiod=9)\n",
        "    MACD_signal=MACD_signal[-1581:]\n",
        "    return pd.DataFrame(MACD_signal)\n",
        "\n",
        "BTC=getPrice('KRW-BTC',1631,'20220501')\n",
        "ETH=getPrice('KRW-ETH',1631,'20220501')\n",
        "ETC=getPrice('KRW-ETC',1631,'20220501')\n",
        "BTG=getPrice('KRW-BTG',1631,'20220501')\n",
        "QTUM=getPrice('KRW-QTUM',1631,'20220501')\n",
        "XRP=getPrice('KRW-XRP',1631,'20220501')\n",
        "\n",
        "ADX_BTC=getADX(BTC)\n",
        "ADX_ETH=getADX(ETH)\n",
        "ADX_ETC=getADX(ETC)\n",
        "ADX_BTG=getADX(BTG)\n",
        "ADX_QTUM=getADX(QTUM)\n",
        "ADX_XRP=getADX(XRP)\n",
        "\n",
        "MA50_BTC=getMA50(BTC)\n",
        "MA50_ETH=getMA50(ETH)\n",
        "MA50_ETC=getMA50(ETC)\n",
        "MA50_BTG=getMA50(BTG)\n",
        "MA50_QTUM=getMA50(QTUM)\n",
        "MA50_XRP=getMA50(XRP)\n",
        "\n",
        "\n",
        "MACD_signal_BTC=getMACD_signal(BTC)\n",
        "MACD_signal_ETH=getMACD_signal(ETH)\n",
        "MACD_signal_ETC=getMACD_signal(ETC)\n",
        "MACD_signal_BTG=getMACD_signal(BTG)\n",
        "MACD_signal_QTUM=getMACD_signal(QTUM)\n",
        "MACD_signal_XRP=getMACD_signal(XRP)\n"
      ],
      "metadata": {
        "id": "6ECTx56K2T2y"
      },
      "execution_count": 10,
      "outputs": []
    },
    {
      "cell_type": "code",
      "source": [
        "Fin_BTC=pd.concat([ADX_BTC,MA50_BTC,MACD_signal_BTC],axis=1)\n",
        "Fin_BTC.columns=['ADX_BTC','MA50_BTC','MACD_signal_BTC']\n",
        "Fin_ETH=pd.concat([ADX_ETH,MA50_ETH,MACD_signal_ETH],axis=1)\n",
        "Fin_ETH.columns=['ADX_ETH','MA50_ETH','MACD_signal_ETH']\n",
        "Fin_ETC=pd.concat([ADX_ETC,MA50_ETC,MACD_signal_ETC],axis=1)\n",
        "Fin_ETC.columns=['ADX_ETC','MA50_ETC','MACD_signal_ETC']\n",
        "Fin_BTG=pd.concat([ADX_BTG,MA50_BTG,MACD_signal_BTG],axis=1)\n",
        "Fin_BTG.columns=['ADX_BTG','MA50_BTG','MACD_signal_BTG']\n",
        "Fin_QTUM=pd.concat([ADX_QTUM,MA50_QTUM,MACD_signal_QTUM],axis=1)\n",
        "Fin_QTUM.columns=['ADX_QTUM','MA50_QTUM','MACD_signal_QTUM']\n",
        "Fin_XRP=pd.concat([ADX_XRP,MA50_XRP,MACD_signal_XRP],axis=1)\n",
        "Fin_XRP.columns=['ADX_XRP','MA50_XRP','MACD_signal_XRP']\n",
        "\n",
        "Fin_Last=pd.concat([Fin_BTC,Fin_ETH,Fin_ETC,Fin_BTG,Fin_QTUM,Fin_XRP],axis=1)\n",
        "Fin_Last.reset_index(drop=True, inplace = True)\n",
        "print(Fin_Last)"
      ],
      "metadata": {
        "id": "7WT4p_VMGdXh",
        "colab": {
          "base_uri": "https://localhost:8080/"
        },
        "outputId": "7e4aeab7-2050-4bf1-fee3-7a7b0e15b68c"
      },
      "execution_count": 39,
      "outputs": [
        {
          "output_type": "stream",
          "name": "stdout",
          "text": [
            "        ADX_BTC    MA50_BTC  MACD_signal_BTC    ADX_ETH   MA50_ETH  \\\n",
            "0     25.704880  15635440.0     1.671972e+06  20.193102   677713.0   \n",
            "1     25.115793  15890960.0     1.529126e+06  20.874206   694024.0   \n",
            "2     24.568783  16157140.0     1.417729e+06  21.840361   712234.0   \n",
            "3     25.034719  16458180.0     1.368570e+06  23.694196   733436.0   \n",
            "4     26.797373  16832860.0     1.422367e+06  25.885890   757222.0   \n",
            "...         ...         ...              ...        ...        ...   \n",
            "1576  20.415702  51910320.0    -6.495258e+05  22.290506  3743220.0   \n",
            "1577  20.458685  51945140.0    -6.834365e+05  23.140706  3752700.0   \n",
            "1578  19.237278  51925340.0    -6.948031e+05  22.831687  3760340.0   \n",
            "1579  18.325504  51941620.0    -7.034052e+05  22.889338  3768240.0   \n",
            "1580  17.629595  51960980.0    -7.153682e+05  23.242086  3775780.0   \n",
            "\n",
            "      MACD_signal_ETH    ADX_ETC  MA50_ETC  MACD_signal_ETC    ADX_BTG  \\\n",
            "0       119501.776740  27.858373   32466.0      2947.344014  14.224344   \n",
            "1       118596.187726  27.454097   32973.0      2739.928883  14.034555   \n",
            "2       120571.384777  27.078698   33471.4      2627.316280  13.852218   \n",
            "3       126271.288952  27.984227   34110.2      2677.423834  14.212461   \n",
            "4       135553.929022  28.825075   34746.2      2801.965909  15.344112   \n",
            "...               ...        ...       ...              ...        ...   \n",
            "1576    -11524.472742  32.127721   46805.6     -1118.155516  17.784240   \n",
            "1577    -18538.082843  33.517944   46936.4     -1344.995228  18.438719   \n",
            "1578    -23535.013617  34.633070   47039.0     -1556.889152  19.046449   \n",
            "1579    -28691.371773  36.088705   47126.8     -1777.944236  20.029451   \n",
            "1580    -34537.313793  37.994796   47159.8     -2035.049710  21.638451   \n",
            "\n",
            "      MA50_BTG  MACD_signal_BTG   ADX_QTUM  MA50_QTUM  MACD_signal_QTUM  \\\n",
            "0          NaN      1535.720017  42.501670    32376.4      12593.401341   \n",
            "1          NaN       143.197549  41.502575    33585.0      12496.371294   \n",
            "2          NaN     -1169.533302  40.191717    34766.4      12324.384423   \n",
            "3          NaN     -1954.731304  38.638849    35917.4      12062.570058   \n",
            "4          NaN     -2165.032852  38.875617    37262.4      11904.588398   \n",
            "...        ...              ...        ...        ...               ...   \n",
            "1576   44719.2      -924.096277  17.062527     8594.3       -186.200604   \n",
            "1577   44805.2     -1035.117471  15.903477     8606.8       -201.558202   \n",
            "1578   44845.8     -1136.893101  14.927815     8613.1       -215.968278   \n",
            "1579   44851.8     -1249.038501  14.267932     8613.5       -232.684977   \n",
            "1580   44817.2     -1394.695707  14.675627     8606.8       -257.896611   \n",
            "\n",
            "        ADX_XRP  MA50_XRP  MACD_signal_XRP  \n",
            "0     84.982398    767.14       410.963859  \n",
            "1     85.501027    822.52       448.313805  \n",
            "2     86.135380    892.48       494.155910  \n",
            "3     86.819398    972.00       549.449455  \n",
            "4     87.231930   1048.12       604.043160  \n",
            "...         ...       ...              ...  \n",
            "1576  21.194507    964.10       -17.736645  \n",
            "1577  22.873238    962.76       -20.549558  \n",
            "1578  24.514580    960.32       -23.468631  \n",
            "1579  26.498658    957.84       -26.726364  \n",
            "1580  28.596694    953.08       -30.315670  \n",
            "\n",
            "[1581 rows x 18 columns]\n"
          ]
        }
      ]
    },
    {
      "cell_type": "code",
      "source": [
        "#LSTM 모델에 넣을 마지막\n",
        "\n",
        "Data=pd.concat([Otherdata,Fin_Last],axis=1)\n",
        "print(Data)"
      ],
      "metadata": {
        "colab": {
          "base_uri": "https://localhost:8080/"
        },
        "id": "OkXloHnnMKdb",
        "outputId": "6634e456-7656-41a0-c748-e5e15c470976"
      },
      "execution_count": 40,
      "outputs": [
        {
          "output_type": "stream",
          "name": "stdout",
          "text": [
            "         YOpen    YHigh      YLow    YClose    ovxOpen    ovxHigh     ovxLow  \\\n",
            "0     2.405000  2.40500  2.405000  2.405000  40.267493  40.159137  41.587107   \n",
            "1     2.461000  2.42900  2.481000  2.416000  22.730000  23.030000  23.180000   \n",
            "2     2.445000  2.46500  2.472000  2.440000  22.750000  22.730000  24.150000   \n",
            "3     2.453000  2.45800  2.487000  2.449000  22.120000  23.900000  25.720000   \n",
            "4     2.476000  2.45800  2.480000  2.433000  22.300000  22.300000  22.480000   \n",
            "...        ...      ...       ...       ...        ...        ...        ...   \n",
            "1576  2.728000  2.81800  2.866000  2.724000  53.570000  52.860000  54.130000   \n",
            "1577  2.826000  2.74000  2.839000  2.715000  53.380000  53.570000  57.000000   \n",
            "1578  2.832000  2.83400  2.888000  2.796000  51.940000  53.380000  54.790000   \n",
            "1579  2.938000  2.85400  2.943000  2.831000  53.100000  51.940000  54.720000   \n",
            "1580  1.872222  1.87114  1.898599  1.843587  42.488965  42.283269  46.579356   \n",
            "\n",
            "       ovxClose    vixOpen    vixHigh  ...  MACD_signal_ETC    ADX_BTG  \\\n",
            "0     37.700263  18.048122  18.819294  ...      2947.344014  14.224344   \n",
            "1     22.080000   9.770000  10.950000  ...      2739.928883  14.034555   \n",
            "2     22.640000   9.150000   9.560000  ...      2627.316280  13.852218   \n",
            "3     21.890000   9.220000   9.010000  ...      2677.423834  14.212461   \n",
            "4     20.230000   9.220000   9.100000  ...      2801.965909  15.344112   \n",
            "...         ...        ...        ...  ...              ...        ...   \n",
            "1576  47.710000  33.520000  27.380000  ...     -1118.155516  17.784240   \n",
            "1577  52.570000  31.600000  31.110000  ...     -1344.995228  18.438719   \n",
            "1578  50.910000  29.990000  29.910000  ...     -1556.889152  19.046449   \n",
            "1579  51.710000  33.400000  28.970000  ...     -1777.944236  20.029451   \n",
            "1580  39.715331  20.310550  20.552356  ...     -2035.049710  21.638451   \n",
            "\n",
            "      MA50_BTG  MACD_signal_BTG   ADX_QTUM  MA50_QTUM  MACD_signal_QTUM  \\\n",
            "0          NaN      1535.720017  42.501670    32376.4      12593.401341   \n",
            "1          NaN       143.197549  41.502575    33585.0      12496.371294   \n",
            "2          NaN     -1169.533302  40.191717    34766.4      12324.384423   \n",
            "3          NaN     -1954.731304  38.638849    35917.4      12062.570058   \n",
            "4          NaN     -2165.032852  38.875617    37262.4      11904.588398   \n",
            "...        ...              ...        ...        ...               ...   \n",
            "1576   44719.2      -924.096277  17.062527     8594.3       -186.200604   \n",
            "1577   44805.2     -1035.117471  15.903477     8606.8       -201.558202   \n",
            "1578   44845.8     -1136.893101  14.927815     8613.1       -215.968278   \n",
            "1579   44851.8     -1249.038501  14.267932     8613.5       -232.684977   \n",
            "1580   44817.2     -1394.695707  14.675627     8606.8       -257.896611   \n",
            "\n",
            "        ADX_XRP  MA50_XRP  MACD_signal_XRP  \n",
            "0     84.982398    767.14       410.963859  \n",
            "1     85.501027    822.52       448.313805  \n",
            "2     86.135380    892.48       494.155910  \n",
            "3     86.819398    972.00       549.449455  \n",
            "4     87.231930   1048.12       604.043160  \n",
            "...         ...       ...              ...  \n",
            "1576  21.194507    964.10       -17.736645  \n",
            "1577  22.873238    962.76       -20.549558  \n",
            "1578  24.514580    960.32       -23.468631  \n",
            "1579  26.498658    957.84       -26.726364  \n",
            "1580  28.596694    953.08       -30.315670  \n",
            "\n",
            "[1581 rows x 30 columns]\n"
          ]
        }
      ]
    }
  ]
}